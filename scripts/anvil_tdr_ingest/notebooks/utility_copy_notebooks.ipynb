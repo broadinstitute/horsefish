{
 "cells": [
  {
   "cell_type": "code",
   "execution_count": 1,
   "metadata": {},
   "outputs": [],
   "source": [
    "## Utility to copy notebooks from one workspace to another, in an ad-hoc manner\n",
    "\n",
    "# Imports\n",
    "from firecloud import api as fapi\n",
    "import json\n",
    "import os\n",
    "import pandas as pd\n",
    "import csv\n",
    "from io import StringIO\n",
    "from google.cloud import storage\n",
    "import re\n",
    "import hashlib\n",
    "\n",
    "# Set parameters\n",
    "src_bucket = 'fc-9cd4583e-7855-4b5e-ae88-d8971cfd5b46'\n",
    "tar_bucket = 'fc-secure-6b1ba7f7-38f8-44e3-96b9-961fe1569e55'\n",
    "notebooks_to_include = ['biosample_transforms.ipynb', 'build_file_manifest.ipynb', 'diagnosis_transforms.ipynb', 'donor_transforms.ipynb', 'familymember_transforms.ipynb', 'file_transforms.ipynb', 'ingest_pipeline.ipynb', 'output_data_profiling.ipynb', 'sequencingactivity_transforms.ipynb', 'source_files_creation.ipynb', 'tdr_dataset_ingest.ipynb', 'transform_task.ipynb', 'variantcall_transforms.ipynb'] # Leave empty to copy all notebooks\n",
    "notebooks_to_exclude = []\n",
    "\n",
    "# Functions\n",
    "def get_notebooks_list(source_bucket, nbs_to_include=[], nbs_to_exclude=[]):\n",
    "    \n",
    "    # Collect list of objects/blobs from bucket \n",
    "    obj_list = []\n",
    "    storage_client = storage.Client()\n",
    "    storage_bucket = storage_client.bucket(source_bucket, user_project='dsp-data-ingest')\n",
    "    objects = list(storage_client.list_blobs(storage_bucket, prefix = 'notebooks'))\n",
    "    \n",
    "    # Loop through list of objects and append names to final list\n",
    "    for obj in objects:\n",
    "        notebook_name = obj.name.split('/')[1]\n",
    "        if len(nbs_to_include) > 0:\n",
    "            for entry in nbs_to_include:\n",
    "                if entry == notebook_name:\n",
    "                    obj_list.append(notebook_name)\n",
    "        elif len(nbs_to_exclude) > 0:\n",
    "            for entry in nbs_to_exclude:\n",
    "                if entry == notebook_name:\n",
    "                    obj_list.append(notebook_name)\n",
    "        else:\n",
    "            obj_list.append(notebook_name)\n",
    "    return obj_list\n",
    "\n",
    "#print(get_notebooks_list('fc-9cd4583e-7855-4b5e-ae88-d8971cfd5b46'))\n",
    "#print(get_notebooks_list('fc-9cd4583e-7855-4b5e-ae88-d8971cfd5b46', ['file_transforms.ipynb']))\n",
    "\n",
    "def copy_notebooks(source_bucket, target_bucket, notebook_list):\n",
    "    source_path = 'gs://' + source_bucket + '/notebooks'\n",
    "    target_path = 'gs://' + target_bucket + '/notebooks'\n",
    "    for item in notebook_list:\n",
    "        !gsutil cp $source_path/$item $target_path/ 2> stdout\n",
    "\n",
    "# Run ad-hoc copy\n",
    "nb_copy_list = get_notebooks_list(src_bucket, notebooks_to_include, notebooks_to_exclude)\n",
    "copy_notebooks(src_bucket, tar_bucket, nb_copy_list)\n"
   ]
  },
  {
   "cell_type": "code",
   "execution_count": null,
   "metadata": {},
   "outputs": [],
   "source": []
  }
 ],
 "metadata": {
  "kernelspec": {
   "display_name": "Python 3",
   "language": "python",
   "name": "python3"
  },
  "language_info": {
   "codemirror_mode": {
    "name": "ipython",
    "version": 3
   },
   "file_extension": ".py",
   "mimetype": "text/x-python",
   "name": "python",
   "nbconvert_exporter": "python",
   "pygments_lexer": "ipython3",
   "version": "3.7.12"
  },
  "toc": {
   "base_numbering": 1,
   "nav_menu": {},
   "number_sections": true,
   "sideBar": true,
   "skip_h1_title": false,
   "title_cell": "Table of Contents",
   "title_sidebar": "Contents",
   "toc_cell": false,
   "toc_position": {},
   "toc_section_display": true,
   "toc_window_display": false
  }
 },
 "nbformat": 4,
 "nbformat_minor": 2
}
